{
 "cells": [
  {
   "cell_type": "code",
   "execution_count": 1,
   "id": "3a00a4f3",
   "metadata": {},
   "outputs": [
    {
     "name": "stdout",
     "output_type": "stream",
     "text": [
      "Requirement already satisfied: opencv-python in c:\\users\\sai\\anaconda3\\lib\\site-packages (4.6.0.66)\n",
      "Requirement already satisfied: numpy>=1.17.3 in c:\\users\\sai\\anaconda3\\lib\\site-packages (from opencv-python) (1.20.1)\n"
     ]
    }
   ],
   "source": [
    "!pip install opencv-python"
   ]
  },
  {
   "cell_type": "code",
   "execution_count": 2,
   "id": "6f540c6d",
   "metadata": {},
   "outputs": [],
   "source": [
    "import cv2\n",
    "from matplotlib import pyplot as plt"
   ]
  },
  {
   "cell_type": "code",
   "execution_count": 3,
   "id": "ad865385",
   "metadata": {},
   "outputs": [],
   "source": [
    "path=r'C:\\Users\\sai\\Desktop\\PBL project\\report\\tree.jpg'"
   ]
  },
  {
   "cell_type": "code",
   "execution_count": 4,
   "id": "eed05ffa",
   "metadata": {},
   "outputs": [],
   "source": [
    "image=cv2.imread(path)"
   ]
  },
  {
   "cell_type": "code",
   "execution_count": 5,
   "id": "84bf9456",
   "metadata": {},
   "outputs": [],
   "source": [
    "window_name='image'"
   ]
  },
  {
   "cell_type": "code",
   "execution_count": 6,
   "id": "1b09a465",
   "metadata": {},
   "outputs": [],
   "source": [
    "cv2.imshow(window_name,image)"
   ]
  },
  {
   "cell_type": "code",
   "execution_count": null,
   "id": "00ea281a",
   "metadata": {},
   "outputs": [],
   "source": [
    "cv2.waitKey(0)"
   ]
  },
  {
   "cell_type": "code",
   "execution_count": null,
   "id": "5bf5a771",
   "metadata": {},
   "outputs": [],
   "source": [
    "%matplotlib inline\n",
    "img_rgb=cv2.cvtColor(image,cv2.COLOR_BGR2RGB)\n",
    "plt.imshow(img_rgb)"
   ]
  },
  {
   "cell_type": "code",
   "execution_count": null,
   "id": "c4a58e44",
   "metadata": {},
   "outputs": [],
   "source": [
    "gray_image=cv2.cvtColor(image,cv2.COLOR_BGR2GRAY)\n",
    "gray_image\n",
    "plt.imshow(gray_image)"
   ]
  },
  {
   "cell_type": "code",
   "execution_count": null,
   "id": "e1ac1552",
   "metadata": {},
   "outputs": [],
   "source": [
    "inverted_image=255 - gray_image\n",
    "#inverted_image=cv2.bitwise_not(gray_image)\n",
    "plt.imshow(inverted_image)"
   ]
  },
  {
   "cell_type": "code",
   "execution_count": null,
   "id": "431c3808",
   "metadata": {},
   "outputs": [],
   "source": [
    "blurred=cv2.GaussianBlur(inverted_image,(21,21),0)\n",
    "plt.imshow(blurred)"
   ]
  },
  {
   "cell_type": "code",
   "execution_count": null,
   "id": "b8ecc605",
   "metadata": {},
   "outputs": [],
   "source": [
    "inverted_blurred=255-blurred\n",
    "pencil_sketch=cv2.divide(gray_image,inverted_blurred,scale=256.0)\n",
    "plt.imshow(pencil_sketch)"
   ]
  },
  {
   "cell_type": "code",
   "execution_count": null,
   "id": "fa1e65b3",
   "metadata": {},
   "outputs": [],
   "source": [
    "cv2.imshow(\"Tree sketch\",pencil_sketch)\n",
    "cv2.waitKey(0)"
   ]
  },
  {
   "cell_type": "code",
   "execution_count": null,
   "id": "cb4a25fc",
   "metadata": {},
   "outputs": [],
   "source": [
    "cv2.imshow(\"Original image\",image)\n",
    "cv2.imshow(\"pencil sketch\",pencil_sketch)\n",
    "cv2.waitKey(0)"
   ]
  },
  {
   "cell_type": "markdown",
   "id": "0c26f627",
   "metadata": {},
   "source": [
    "### THANK YOU "
   ]
  },
  {
   "cell_type": "code",
   "execution_count": null,
   "id": "8457a0d7",
   "metadata": {},
   "outputs": [],
   "source": []
  },
  {
   "cell_type": "code",
   "execution_count": null,
   "id": "e23c8824",
   "metadata": {},
   "outputs": [],
   "source": []
  }
 ],
 "metadata": {
  "kernelspec": {
   "display_name": "Python 3",
   "language": "python",
   "name": "python3"
  },
  "language_info": {
   "codemirror_mode": {
    "name": "ipython",
    "version": 3
   },
   "file_extension": ".py",
   "mimetype": "text/x-python",
   "name": "python",
   "nbconvert_exporter": "python",
   "pygments_lexer": "ipython3",
   "version": "3.8.8"
  }
 },
 "nbformat": 4,
 "nbformat_minor": 5
}
